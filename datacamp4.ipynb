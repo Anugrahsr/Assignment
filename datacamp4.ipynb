{
  "nbformat": 4,
  "nbformat_minor": 0,
  "metadata": {
    "colab": {
      "name": "datacamp4.ipynb",
      "provenance": [],
      "authorship_tag": "ABX9TyPGpMMw52R6Lh+vevfzoDtl",
      "include_colab_link": true
    },
    "kernelspec": {
      "name": "python3",
      "display_name": "Python 3"
    }
  },
  "cells": [
    {
      "cell_type": "markdown",
      "metadata": {
        "id": "view-in-github",
        "colab_type": "text"
      },
      "source": [
        "<a href=\"https://colab.research.google.com/github/Anugrahsr/Assignment/blob/master/datacamp4.ipynb\" target=\"_parent\"><img src=\"https://colab.research.google.com/assets/colab-badge.svg\" alt=\"Open In Colab\"/></a>"
      ]
    },
    {
      "cell_type": "markdown",
      "metadata": {
        "id": "1ibFQPVS5-n9",
        "colab_type": "text"
      },
      "source": [
        "#LOGIC AND CONTROL FLOW\n",
        "\n",
        "\n",
        "\n",
        "\n",
        "[github source](https://github.com/AmoDinho/datacamp-python-data-science-track/blob/master/Intermediate%20Python%20for%20Data%20Science/Slides/intermediate_python_ch3_slides.pdf)\n",
        "\n"
      ]
    },
    {
      "cell_type": "markdown",
      "metadata": {
        "id": "Sp2fzNQm8mO4",
        "colab_type": "text"
      },
      "source": [
        "**#Equality**"
      ]
    },
    {
      "cell_type": "code",
      "metadata": {
        "id": "TuF2jlJJ5_Fh",
        "colab_type": "code",
        "colab": {
          "base_uri": "https://localhost:8080/",
          "height": 34
        },
        "outputId": "775e8c82-3e0d-4ef0-fc8f-1db5256059d4"
      },
      "source": [
        "# Comparison of booleans\n",
        "print(True == False)"
      ],
      "execution_count": 1,
      "outputs": [
        {
          "output_type": "stream",
          "text": [
            "False\n"
          ],
          "name": "stdout"
        }
      ]
    },
    {
      "cell_type": "code",
      "metadata": {
        "id": "_PQwxqgW7kFt",
        "colab_type": "code",
        "colab": {
          "base_uri": "https://localhost:8080/",
          "height": 34
        },
        "outputId": "0fe019f5-da9d-4ac7-ec60-233c1b223d9b"
      },
      "source": [
        "# Comparison of integers\n",
        "print(-5 * 15 != 75)"
      ],
      "execution_count": 2,
      "outputs": [
        {
          "output_type": "stream",
          "text": [
            "True\n"
          ],
          "name": "stdout"
        }
      ]
    },
    {
      "cell_type": "code",
      "metadata": {
        "id": "asZrz5Vo7o4V",
        "colab_type": "code",
        "colab": {
          "base_uri": "https://localhost:8080/",
          "height": 34
        },
        "outputId": "20b24a11-3cff-466b-eeb2-ae459ff328d8"
      },
      "source": [
        "# Comparison of strings\n",
        "print(\"pyscript\" == \"PyScript\")"
      ],
      "execution_count": 6,
      "outputs": [
        {
          "output_type": "stream",
          "text": [
            "False\n"
          ],
          "name": "stdout"
        }
      ]
    },
    {
      "cell_type": "code",
      "metadata": {
        "id": "3mZAUG6T8FK7",
        "colab_type": "code",
        "colab": {
          "base_uri": "https://localhost:8080/",
          "height": 52
        },
        "outputId": "3eacc864-86ad-4bd2-b803-069a28b8500a"
      },
      "source": [
        "# Compare a boolean with a numeric\n",
        "print(True == 1)\n",
        "print(False == 1) #False is true when compared to 0\n"
      ],
      "execution_count": 10,
      "outputs": [
        {
          "output_type": "stream",
          "text": [
            "True\n",
            "False\n"
          ],
          "name": "stdout"
        }
      ]
    },
    {
      "cell_type": "markdown",
      "metadata": {
        "id": "0RY39Olr8pP4",
        "colab_type": "text"
      },
      "source": [
        "**#Greater and less than**"
      ]
    },
    {
      "cell_type": "code",
      "metadata": {
        "id": "aTY_UrcA8ya2",
        "colab_type": "code",
        "colab": {
          "base_uri": "https://localhost:8080/",
          "height": 34
        },
        "outputId": "445cc0b7-e205-4bd8-b15b-c58eb4c7bd45"
      },
      "source": [
        "# Comparison of integers\n",
        "x = -3 * 6\n",
        "print(x >= -10)"
      ],
      "execution_count": 11,
      "outputs": [
        {
          "output_type": "stream",
          "text": [
            "False\n"
          ],
          "name": "stdout"
        }
      ]
    },
    {
      "cell_type": "code",
      "metadata": {
        "id": "MSprh1ve85vM",
        "colab_type": "code",
        "colab": {
          "base_uri": "https://localhost:8080/",
          "height": 34
        },
        "outputId": "4488bb42-5e2c-4dc8-de9e-2d7870ed410b"
      },
      "source": [
        "# Comparison of strings\n",
        "y = \"test\"\n",
        "print(\"test\" <= y)\n"
      ],
      "execution_count": 12,
      "outputs": [
        {
          "output_type": "stream",
          "text": [
            "True\n"
          ],
          "name": "stdout"
        }
      ]
    },
    {
      "cell_type": "code",
      "metadata": {
        "id": "ywZP1qIC89Lu",
        "colab_type": "code",
        "colab": {
          "base_uri": "https://localhost:8080/",
          "height": 34
        },
        "outputId": "8043937d-495e-489b-e758-055c30299323"
      },
      "source": [
        "\n",
        "# Comparison of booleans\n",
        "print(True > False)"
      ],
      "execution_count": 13,
      "outputs": [
        {
          "output_type": "stream",
          "text": [
            "True\n"
          ],
          "name": "stdout"
        }
      ]
    },
    {
      "cell_type": "markdown",
      "metadata": {
        "id": "ULMNSRtu9CEm",
        "colab_type": "text"
      },
      "source": [
        "\n",
        "**#Compare arrays**"
      ]
    },
    {
      "cell_type": "code",
      "metadata": {
        "id": "JNLMDzXV9FvW",
        "colab_type": "code",
        "colab": {
          "base_uri": "https://localhost:8080/",
          "height": 34
        },
        "outputId": "d5eba29f-2796-445b-abab-f6c5e4a7498d"
      },
      "source": [
        "#compare two array\n",
        "import numpy as np\n",
        "my_array1 = np.array([1, 2, 3, 4, 5, 6])\n",
        "my_array2 = np.array([5, 7, 8, 3, 6, 9])\n",
        "\n",
        "print(my_array1 <= 3)"
      ],
      "execution_count": 14,
      "outputs": [
        {
          "output_type": "stream",
          "text": [
            "[ True  True  True False False False]\n"
          ],
          "name": "stdout"
        }
      ]
    },
    {
      "cell_type": "code",
      "metadata": {
        "id": "fScnKaNd9olH",
        "colab_type": "code",
        "colab": {
          "base_uri": "https://localhost:8080/",
          "height": 34
        },
        "outputId": "fed1690c-4195-4ac6-aff7-42e2e730449b"
      },
      "source": [
        "#compare two array\n",
        "print(my_array1 < my_array2)"
      ],
      "execution_count": 15,
      "outputs": [
        {
          "output_type": "stream",
          "text": [
            "[ True  True  True False  True  True]\n"
          ],
          "name": "stdout"
        }
      ]
    },
    {
      "cell_type": "code",
      "metadata": {
        "id": "6Ajhbjl69zMt",
        "colab_type": "code",
        "colab": {
          "base_uri": "https://localhost:8080/",
          "height": 167
        },
        "outputId": "0c07a058-9c37-4762-9e51-b9c53b31bf61"
      },
      "source": [
        "print(my_array1 < 3 and my_array2 > 2)\n",
        "#oops error!"
      ],
      "execution_count": 16,
      "outputs": [
        {
          "output_type": "error",
          "ename": "ValueError",
          "evalue": "ignored",
          "traceback": [
            "\u001b[0;31m---------------------------------------------------------------------------\u001b[0m",
            "\u001b[0;31mValueError\u001b[0m                                Traceback (most recent call last)",
            "\u001b[0;32m<ipython-input-16-e2fb00080204>\u001b[0m in \u001b[0;36m<module>\u001b[0;34m()\u001b[0m\n\u001b[0;32m----> 1\u001b[0;31m \u001b[0mprint\u001b[0m\u001b[0;34m(\u001b[0m\u001b[0mmy_array1\u001b[0m \u001b[0;34m<\u001b[0m \u001b[0;36m3\u001b[0m \u001b[0;32mand\u001b[0m \u001b[0mmy_array2\u001b[0m \u001b[0;34m>\u001b[0m \u001b[0;36m2\u001b[0m\u001b[0;34m)\u001b[0m\u001b[0;34m\u001b[0m\u001b[0;34m\u001b[0m\u001b[0m\n\u001b[0m",
            "\u001b[0;31mValueError\u001b[0m: The truth value of an array with more than one element is ambiguous. Use a.any() or a.all()"
          ]
        }
      ]
    },
    {
      "cell_type": "markdown",
      "metadata": {
        "id": "8UvReF0H-eMc",
        "colab_type": "text"
      },
      "source": [
        "**#Boolean operators with Numpy**\n",
        "\n",
        "\n",
        "\n",
        "1.   np.logical_and\n",
        "2.   np.logical_or\n",
        "3.   np.logical_not\n",
        "\n"
      ]
    },
    {
      "cell_type": "code",
      "metadata": {
        "id": "cO787GDi-aEq",
        "colab_type": "code",
        "colab": {
          "base_uri": "https://localhost:8080/",
          "height": 34
        },
        "outputId": "11861280-f2d7-4fbf-a02b-a9ab11834ebc"
      },
      "source": [
        "logic1 = np.logical_and(my_array1 < 3, my_array2 > 2)"
      ],
      "execution_count": 17,
      "outputs": [
        {
          "output_type": "execute_result",
          "data": {
            "text/plain": [
              "array([ True,  True, False, False, False, False])"
            ]
          },
          "metadata": {
            "tags": []
          },
          "execution_count": 17
        }
      ]
    },
    {
      "cell_type": "code",
      "metadata": {
        "id": "jihZjpapCnlG",
        "colab_type": "code",
        "colab": {
          "base_uri": "https://localhost:8080/",
          "height": 34
        },
        "outputId": "348ae3bc-70ad-4828-e47b-446d94e0310a"
      },
      "source": [
        "my_array1[np.logical_and(my_array1 < 3, my_array2 > 2)]"
      ],
      "execution_count": 20,
      "outputs": [
        {
          "output_type": "execute_result",
          "data": {
            "text/plain": [
              "array([1, 2])"
            ]
          },
          "metadata": {
            "tags": []
          },
          "execution_count": 20
        }
      ]
    },
    {
      "cell_type": "code",
      "metadata": {
        "id": "7v3gUyldCwyS",
        "colab_type": "code",
        "colab": {}
      },
      "source": [
        "# Create arrays\n",
        "import numpy as np\n",
        "my_house = np.array([18.0, 20.0, 10.75, 9.50])\n",
        "your_house = np.array([14.0, 24.0, 14.25, 9.0])\n"
      ],
      "execution_count": 0,
      "outputs": []
    },
    {
      "cell_type": "code",
      "metadata": {
        "id": "U5eMWN9xEBwp",
        "colab_type": "code",
        "colab": {
          "base_uri": "https://localhost:8080/",
          "height": 34
        },
        "outputId": "b8f8326b-38a8-4280-e1ec-74b2bf53ac39"
      },
      "source": [
        "# my_house greater than 18.5 or smaller than 10\n",
        "print(np.logical_or(my_house > 18.5, my_house < 10))"
      ],
      "execution_count": 22,
      "outputs": [
        {
          "output_type": "stream",
          "text": [
            "[False  True False  True]\n"
          ],
          "name": "stdout"
        }
      ]
    },
    {
      "cell_type": "code",
      "metadata": {
        "id": "LaJmHY2AEE_u",
        "colab_type": "code",
        "colab": {
          "base_uri": "https://localhost:8080/",
          "height": 34
        },
        "outputId": "24ceadcf-4174-446c-b84e-12abd5ddda88"
      },
      "source": [
        "# Both my_house and your_house smaller than 11\n",
        "print(np.logical_and(my_house < 11, your_house < 11))"
      ],
      "execution_count": 23,
      "outputs": [
        {
          "output_type": "stream",
          "text": [
            "[False False False  True]\n"
          ],
          "name": "stdout"
        }
      ]
    },
    {
      "cell_type": "markdown",
      "metadata": {
        "id": "qvhmhw0SELvS",
        "colab_type": "text"
      },
      "source": [
        "# **Condition Statements**"
      ]
    },
    {
      "cell_type": "markdown",
      "metadata": {
        "id": "nwMHD0YkEax7",
        "colab_type": "text"
      },
      "source": [
        "**#If**"
      ]
    },
    {
      "cell_type": "code",
      "metadata": {
        "id": "E4BsAE_lEShi",
        "colab_type": "code",
        "colab": {}
      },
      "source": [
        "# Define variables\n",
        "room = \"kit\"\n",
        "area = 14.0"
      ],
      "execution_count": 0,
      "outputs": []
    },
    {
      "cell_type": "code",
      "metadata": {
        "id": "1WWQJ8Q5EhVS",
        "colab_type": "code",
        "colab": {
          "base_uri": "https://localhost:8080/",
          "height": 34
        },
        "outputId": "c0cd7f36-a33a-4b75-bacb-ae4541274fb1"
      },
      "source": [
        "if room == \"kit\":\n",
        "  print(\"hello world\")"
      ],
      "execution_count": 30,
      "outputs": [
        {
          "output_type": "stream",
          "text": [
            "hello world\n"
          ],
          "name": "stdout"
        }
      ]
    },
    {
      "cell_type": "code",
      "metadata": {
        "id": "EZkl5GX5En8f",
        "colab_type": "code",
        "colab": {
          "base_uri": "https://localhost:8080/",
          "height": 34
        },
        "outputId": "bac5f04d-8059-46f2-9255-1031d8c60d0e"
      },
      "source": [
        "# if-else construct for area :\n",
        "if area > 15 :\n",
        "    print(\"big place!\")\n",
        "else :\n",
        "    print(\"pretty small.\")\n"
      ],
      "execution_count": 31,
      "outputs": [
        {
          "output_type": "stream",
          "text": [
            "pretty small.\n"
          ],
          "name": "stdout"
        }
      ]
    },
    {
      "cell_type": "code",
      "metadata": {
        "id": "TBJKw9UcFTNS",
        "colab_type": "code",
        "colab": {
          "base_uri": "https://localhost:8080/",
          "height": 34
        },
        "outputId": "e41350fc-2afa-47a1-a85e-fcd00f68627e"
      },
      "source": [
        "# if-elif-else construct for area\n",
        "if area > 15 :\n",
        "    print(\"big place!\")\n",
        "elif area > 10 :\n",
        "    print(\"medium size, nice!\")\n",
        "else :\n",
        "    print(\"pretty small.\")"
      ],
      "execution_count": 32,
      "outputs": [
        {
          "output_type": "stream",
          "text": [
            "medium size, nice!\n"
          ],
          "name": "stdout"
        }
      ]
    },
    {
      "cell_type": "code",
      "metadata": {
        "id": "MUvVxtqGGNcG",
        "colab_type": "code",
        "colab": {}
      },
      "source": [
        "#Cars per capita (2)\n",
        "# Import cars data\n",
        "import pandas as pd\n",
        "cars = pd.read_csv('cars.csv', index_col = 0)\n",
        "\n",
        "# Import numpy, you'll need this\n",
        "import numpy as np\n",
        "\n",
        "# Create medium: observations with cars_per_cap between 100 and 500\n",
        "cpc = cars['cars_per_cap']\n",
        "between = np.logical_and(cpc > 100, cpc < 500)\n",
        "medium = cars[between]\n",
        "\n",
        "# Print medium\n",
        "print(medium)"
      ],
      "execution_count": 0,
      "outputs": []
    }
  ]
}