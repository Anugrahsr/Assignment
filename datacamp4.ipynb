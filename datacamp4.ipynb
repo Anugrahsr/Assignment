{
  "nbformat": 4,
  "nbformat_minor": 0,
  "metadata": {
    "colab": {
      "name": "datacamp4.ipynb",
      "provenance": [],
      "authorship_tag": "ABX9TyMnRKmXBA4D+qb7+NpcHqNh",
      "include_colab_link": true
    },
    "kernelspec": {
      "name": "python3",
      "display_name": "Python 3"
    }
  },
  "cells": [
    {
      "cell_type": "markdown",
      "metadata": {
        "id": "view-in-github",
        "colab_type": "text"
      },
      "source": [
        "<a href=\"https://colab.research.google.com/github/Anugrahsr/Assignment/blob/master/datacamp4.ipynb\" target=\"_parent\"><img src=\"https://colab.research.google.com/assets/colab-badge.svg\" alt=\"Open In Colab\"/></a>"
      ]
    },
    {
      "cell_type": "markdown",
      "metadata": {
        "id": "1ibFQPVS5-n9",
        "colab_type": "text"
      },
      "source": [
        "#LOGIC AND CONTROL FLOW\n",
        "\n",
        "\n",
        "\n",
        "\n",
        "[github source](https://github.com/AmoDinho/datacamp-python-data-science-track/blob/master/Intermediate%20Python%20for%20Data%20Science/Slides/intermediate_python_ch3_slides.pdf)\n",
        "\n"
      ]
    },
    {
      "cell_type": "markdown",
      "metadata": {
        "id": "Sp2fzNQm8mO4",
        "colab_type": "text"
      },
      "source": [
        "**#Equality**"
      ]
    },
    {
      "cell_type": "code",
      "metadata": {
        "id": "TuF2jlJJ5_Fh",
        "colab_type": "code",
        "colab": {
          "base_uri": "https://localhost:8080/",
          "height": 34
        },
        "outputId": "775e8c82-3e0d-4ef0-fc8f-1db5256059d4"
      },
      "source": [
        "# Comparison of booleans\n",
        "print(True == False)"
      ],
      "execution_count": 1,
      "outputs": [
        {
          "output_type": "stream",
          "text": [
            "False\n"
          ],
          "name": "stdout"
        }
      ]
    },
    {
      "cell_type": "code",
      "metadata": {
        "id": "_PQwxqgW7kFt",
        "colab_type": "code",
        "colab": {
          "base_uri": "https://localhost:8080/",
          "height": 34
        },
        "outputId": "0fe019f5-da9d-4ac7-ec60-233c1b223d9b"
      },
      "source": [
        "# Comparison of integers\n",
        "print(-5 * 15 != 75)"
      ],
      "execution_count": 2,
      "outputs": [
        {
          "output_type": "stream",
          "text": [
            "True\n"
          ],
          "name": "stdout"
        }
      ]
    },
    {
      "cell_type": "code",
      "metadata": {
        "id": "asZrz5Vo7o4V",
        "colab_type": "code",
        "colab": {
          "base_uri": "https://localhost:8080/",
          "height": 34
        },
        "outputId": "20b24a11-3cff-466b-eeb2-ae459ff328d8"
      },
      "source": [
        "# Comparison of strings\n",
        "print(\"pyscript\" == \"PyScript\")"
      ],
      "execution_count": 6,
      "outputs": [
        {
          "output_type": "stream",
          "text": [
            "False\n"
          ],
          "name": "stdout"
        }
      ]
    },
    {
      "cell_type": "code",
      "metadata": {
        "id": "3mZAUG6T8FK7",
        "colab_type": "code",
        "colab": {
          "base_uri": "https://localhost:8080/",
          "height": 52
        },
        "outputId": "3eacc864-86ad-4bd2-b803-069a28b8500a"
      },
      "source": [
        "# Compare a boolean with a numeric\n",
        "print(True == 1)\n",
        "print(False == 1) #False is true when compared to 0\n"
      ],
      "execution_count": 10,
      "outputs": [
        {
          "output_type": "stream",
          "text": [
            "True\n",
            "False\n"
          ],
          "name": "stdout"
        }
      ]
    },
    {
      "cell_type": "markdown",
      "metadata": {
        "id": "0RY39Olr8pP4",
        "colab_type": "text"
      },
      "source": [
        "**#Greater and less than**"
      ]
    },
    {
      "cell_type": "code",
      "metadata": {
        "id": "aTY_UrcA8ya2",
        "colab_type": "code",
        "colab": {
          "base_uri": "https://localhost:8080/",
          "height": 34
        },
        "outputId": "445cc0b7-e205-4bd8-b15b-c58eb4c7bd45"
      },
      "source": [
        "# Comparison of integers\n",
        "x = -3 * 6\n",
        "print(x >= -10)"
      ],
      "execution_count": 11,
      "outputs": [
        {
          "output_type": "stream",
          "text": [
            "False\n"
          ],
          "name": "stdout"
        }
      ]
    },
    {
      "cell_type": "code",
      "metadata": {
        "id": "MSprh1ve85vM",
        "colab_type": "code",
        "colab": {
          "base_uri": "https://localhost:8080/",
          "height": 34
        },
        "outputId": "4488bb42-5e2c-4dc8-de9e-2d7870ed410b"
      },
      "source": [
        "# Comparison of strings\n",
        "y = \"test\"\n",
        "print(\"test\" <= y)\n"
      ],
      "execution_count": 12,
      "outputs": [
        {
          "output_type": "stream",
          "text": [
            "True\n"
          ],
          "name": "stdout"
        }
      ]
    },
    {
      "cell_type": "code",
      "metadata": {
        "id": "ywZP1qIC89Lu",
        "colab_type": "code",
        "colab": {
          "base_uri": "https://localhost:8080/",
          "height": 34
        },
        "outputId": "8043937d-495e-489b-e758-055c30299323"
      },
      "source": [
        "\n",
        "# Comparison of booleans\n",
        "print(True > False)"
      ],
      "execution_count": 13,
      "outputs": [
        {
          "output_type": "stream",
          "text": [
            "True\n"
          ],
          "name": "stdout"
        }
      ]
    },
    {
      "cell_type": "markdown",
      "metadata": {
        "id": "ULMNSRtu9CEm",
        "colab_type": "text"
      },
      "source": [
        "\n",
        "**#Compare arrays**"
      ]
    },
    {
      "cell_type": "code",
      "metadata": {
        "id": "JNLMDzXV9FvW",
        "colab_type": "code",
        "colab": {
          "base_uri": "https://localhost:8080/",
          "height": 34
        },
        "outputId": "cbdd2e68-d4c5-4788-cf99-58474961f299"
      },
      "source": [
        "#compare two array\n",
        "import numpy as np\n",
        "my_array1 = np.array([1, 2, 3, 4, 5, 6])\n",
        "my_array2 = np.array([5, 7, 8, 3, 6, 9])\n",
        "\n",
        "print(my_array1 <= 3)"
      ],
      "execution_count": 37,
      "outputs": [
        {
          "output_type": "stream",
          "text": [
            "[ True  True  True False False False]\n"
          ],
          "name": "stdout"
        }
      ]
    },
    {
      "cell_type": "code",
      "metadata": {
        "id": "fScnKaNd9olH",
        "colab_type": "code",
        "colab": {
          "base_uri": "https://localhost:8080/",
          "height": 34
        },
        "outputId": "fed1690c-4195-4ac6-aff7-42e2e730449b"
      },
      "source": [
        "#compare two array\n",
        "print(my_array1 < my_array2)"
      ],
      "execution_count": 15,
      "outputs": [
        {
          "output_type": "stream",
          "text": [
            "[ True  True  True False  True  True]\n"
          ],
          "name": "stdout"
        }
      ]
    },
    {
      "cell_type": "code",
      "metadata": {
        "id": "6Ajhbjl69zMt",
        "colab_type": "code",
        "colab": {
          "base_uri": "https://localhost:8080/",
          "height": 167
        },
        "outputId": "0c07a058-9c37-4762-9e51-b9c53b31bf61"
      },
      "source": [
        "print(my_array1 < 3 and my_array2 > 2)\n",
        "#oops error!"
      ],
      "execution_count": 16,
      "outputs": [
        {
          "output_type": "error",
          "ename": "ValueError",
          "evalue": "ignored",
          "traceback": [
            "\u001b[0;31m---------------------------------------------------------------------------\u001b[0m",
            "\u001b[0;31mValueError\u001b[0m                                Traceback (most recent call last)",
            "\u001b[0;32m<ipython-input-16-e2fb00080204>\u001b[0m in \u001b[0;36m<module>\u001b[0;34m()\u001b[0m\n\u001b[0;32m----> 1\u001b[0;31m \u001b[0mprint\u001b[0m\u001b[0;34m(\u001b[0m\u001b[0mmy_array1\u001b[0m \u001b[0;34m<\u001b[0m \u001b[0;36m3\u001b[0m \u001b[0;32mand\u001b[0m \u001b[0mmy_array2\u001b[0m \u001b[0;34m>\u001b[0m \u001b[0;36m2\u001b[0m\u001b[0;34m)\u001b[0m\u001b[0;34m\u001b[0m\u001b[0;34m\u001b[0m\u001b[0m\n\u001b[0m",
            "\u001b[0;31mValueError\u001b[0m: The truth value of an array with more than one element is ambiguous. Use a.any() or a.all()"
          ]
        }
      ]
    },
    {
      "cell_type": "markdown",
      "metadata": {
        "id": "8UvReF0H-eMc",
        "colab_type": "text"
      },
      "source": [
        "**#Boolean operators with Numpy**\n",
        "\n",
        "\n",
        "\n",
        "1.   np.logical_and\n",
        "2.   np.logical_or\n",
        "3.   np.logical_not\n",
        "\n"
      ]
    },
    {
      "cell_type": "code",
      "metadata": {
        "id": "cO787GDi-aEq",
        "colab_type": "code",
        "colab": {
          "base_uri": "https://localhost:8080/",
          "height": 34
        },
        "outputId": "11861280-f2d7-4fbf-a02b-a9ab11834ebc"
      },
      "source": [
        "logic1 = np.logical_and(my_array1 < 3, my_array2 > 2)"
      ],
      "execution_count": 17,
      "outputs": [
        {
          "output_type": "execute_result",
          "data": {
            "text/plain": [
              "array([ True,  True, False, False, False, False])"
            ]
          },
          "metadata": {
            "tags": []
          },
          "execution_count": 17
        }
      ]
    },
    {
      "cell_type": "code",
      "metadata": {
        "id": "jihZjpapCnlG",
        "colab_type": "code",
        "colab": {
          "base_uri": "https://localhost:8080/",
          "height": 34
        },
        "outputId": "348ae3bc-70ad-4828-e47b-446d94e0310a"
      },
      "source": [
        "my_array1[np.logical_and(my_array1 < 3, my_array2 > 2)]"
      ],
      "execution_count": 20,
      "outputs": [
        {
          "output_type": "execute_result",
          "data": {
            "text/plain": [
              "array([1, 2])"
            ]
          },
          "metadata": {
            "tags": []
          },
          "execution_count": 20
        }
      ]
    },
    {
      "cell_type": "code",
      "metadata": {
        "id": "7v3gUyldCwyS",
        "colab_type": "code",
        "colab": {}
      },
      "source": [
        "# Create arrays\n",
        "import numpy as np\n",
        "my_house = np.array([18.0, 20.0, 10.75, 9.50])\n",
        "your_house = np.array([14.0, 24.0, 14.25, 9.0])\n"
      ],
      "execution_count": 0,
      "outputs": []
    },
    {
      "cell_type": "code",
      "metadata": {
        "id": "U5eMWN9xEBwp",
        "colab_type": "code",
        "colab": {
          "base_uri": "https://localhost:8080/",
          "height": 34
        },
        "outputId": "b8f8326b-38a8-4280-e1ec-74b2bf53ac39"
      },
      "source": [
        "# my_house greater than 18.5 or smaller than 10\n",
        "print(np.logical_or(my_house > 18.5, my_house < 10))"
      ],
      "execution_count": 22,
      "outputs": [
        {
          "output_type": "stream",
          "text": [
            "[False  True False  True]\n"
          ],
          "name": "stdout"
        }
      ]
    },
    {
      "cell_type": "code",
      "metadata": {
        "id": "LaJmHY2AEE_u",
        "colab_type": "code",
        "colab": {
          "base_uri": "https://localhost:8080/",
          "height": 34
        },
        "outputId": "24ceadcf-4174-446c-b84e-12abd5ddda88"
      },
      "source": [
        "# Both my_house and your_house smaller than 11\n",
        "print(np.logical_and(my_house < 11, your_house < 11))"
      ],
      "execution_count": 23,
      "outputs": [
        {
          "output_type": "stream",
          "text": [
            "[False False False  True]\n"
          ],
          "name": "stdout"
        }
      ]
    },
    {
      "cell_type": "markdown",
      "metadata": {
        "id": "qvhmhw0SELvS",
        "colab_type": "text"
      },
      "source": [
        "# **Condition Statements**"
      ]
    },
    {
      "cell_type": "markdown",
      "metadata": {
        "id": "nwMHD0YkEax7",
        "colab_type": "text"
      },
      "source": [
        "**#If**"
      ]
    },
    {
      "cell_type": "code",
      "metadata": {
        "id": "E4BsAE_lEShi",
        "colab_type": "code",
        "colab": {}
      },
      "source": [
        "# Define variables\n",
        "room = \"kit\"\n",
        "area = 14.0"
      ],
      "execution_count": 0,
      "outputs": []
    },
    {
      "cell_type": "code",
      "metadata": {
        "id": "1WWQJ8Q5EhVS",
        "colab_type": "code",
        "colab": {
          "base_uri": "https://localhost:8080/",
          "height": 34
        },
        "outputId": "c0cd7f36-a33a-4b75-bacb-ae4541274fb1"
      },
      "source": [
        "if room == \"kit\":\n",
        "  print(\"hello world\")"
      ],
      "execution_count": 30,
      "outputs": [
        {
          "output_type": "stream",
          "text": [
            "hello world\n"
          ],
          "name": "stdout"
        }
      ]
    },
    {
      "cell_type": "code",
      "metadata": {
        "id": "EZkl5GX5En8f",
        "colab_type": "code",
        "colab": {
          "base_uri": "https://localhost:8080/",
          "height": 34
        },
        "outputId": "bac5f04d-8059-46f2-9255-1031d8c60d0e"
      },
      "source": [
        "# if-else construct for area :\n",
        "if area > 15 :\n",
        "    print(\"big place!\")\n",
        "else :\n",
        "    print(\"pretty small.\")\n"
      ],
      "execution_count": 31,
      "outputs": [
        {
          "output_type": "stream",
          "text": [
            "pretty small.\n"
          ],
          "name": "stdout"
        }
      ]
    },
    {
      "cell_type": "code",
      "metadata": {
        "id": "TBJKw9UcFTNS",
        "colab_type": "code",
        "colab": {
          "base_uri": "https://localhost:8080/",
          "height": 34
        },
        "outputId": "e41350fc-2afa-47a1-a85e-fcd00f68627e"
      },
      "source": [
        "# if-elif-else construct for area\n",
        "if area > 15 :\n",
        "    print(\"big place!\")\n",
        "elif area > 10 :\n",
        "    print(\"medium size, nice!\")\n",
        "else :\n",
        "    print(\"pretty small.\")"
      ],
      "execution_count": 32,
      "outputs": [
        {
          "output_type": "stream",
          "text": [
            "medium size, nice!\n"
          ],
          "name": "stdout"
        }
      ]
    },
    {
      "cell_type": "code",
      "metadata": {
        "id": "MUvVxtqGGNcG",
        "colab_type": "code",
        "colab": {}
      },
      "source": [
        "#Cars per capita (2)\n",
        "# Import cars data\n",
        "import pandas as pd\n",
        "cars = pd.read_csv('cars.csv', index_col = 0)\n",
        "\n",
        "# Import numpy, you'll need this\n",
        "import numpy as np\n",
        "\n",
        "# Create medium: observations with cars_per_cap between 100 and 500\n",
        "cpc = cars['cars_per_cap']\n",
        "between = np.logical_and(cpc > 100, cpc < 500)\n",
        "medium = cars[between]\n",
        "\n",
        "# Print medium\n",
        "print(medium)"
      ],
      "execution_count": 0,
      "outputs": []
    },
    {
      "cell_type": "markdown",
      "metadata": {
        "id": "PrMbVGK3JE07",
        "colab_type": "text"
      },
      "source": [
        "**while Loop**"
      ]
    },
    {
      "cell_type": "code",
      "metadata": {
        "id": "jVd-rstlJLMA",
        "colab_type": "code",
        "colab": {
          "base_uri": "https://localhost:8080/",
          "height": 69
        },
        "outputId": "13e29219-a6cb-40b9-98f3-c24537edbf72"
      },
      "source": [
        "x = 50.0\n",
        "\n",
        "while x > 1:\n",
        "  x = x / 4\n",
        "  print(x)\n"
      ],
      "execution_count": 33,
      "outputs": [
        {
          "output_type": "stream",
          "text": [
            "12.5\n",
            "3.125\n",
            "0.78125\n"
          ],
          "name": "stdout"
        }
      ]
    },
    {
      "cell_type": "code",
      "metadata": {
        "id": "NonI0pjMJkZ6",
        "colab_type": "code",
        "colab": {
          "base_uri": "https://localhost:8080/",
          "height": 364
        },
        "outputId": "3a561557-9ccd-46ca-f80c-bd1632d8a089"
      },
      "source": [
        "offset = 10\n",
        "while offset != 0 :\n",
        "    print(\"correcting...\")\n",
        "    offset = offset - 1\n",
        "    print(offset)"
      ],
      "execution_count": 35,
      "outputs": [
        {
          "output_type": "stream",
          "text": [
            "correcting...\n",
            "9\n",
            "correcting...\n",
            "8\n",
            "correcting...\n",
            "7\n",
            "correcting...\n",
            "6\n",
            "correcting...\n",
            "5\n",
            "correcting...\n",
            "4\n",
            "correcting...\n",
            "3\n",
            "correcting...\n",
            "2\n",
            "correcting...\n",
            "1\n",
            "correcting...\n",
            "0\n"
          ],
          "name": "stdout"
        }
      ]
    },
    {
      "cell_type": "code",
      "metadata": {
        "id": "lvEfthzXJoi2",
        "colab_type": "code",
        "colab": {
          "base_uri": "https://localhost:8080/",
          "height": 104
        },
        "outputId": "02797abc-a3fa-4442-8688-5db94c1970af"
      },
      "source": [
        "#Loop over a list\n",
        "# areas list\n",
        "areas = [11.25, 18.0, 20.0, 10.75, 9.50]\n",
        "\n",
        "# Code the for loop\n",
        "for area in areas :\n",
        "    print(area)"
      ],
      "execution_count": 36,
      "outputs": [
        {
          "output_type": "stream",
          "text": [
            "11.25\n",
            "18.0\n",
            "20.0\n",
            "10.75\n",
            "9.5\n"
          ],
          "name": "stdout"
        }
      ]
    },
    {
      "cell_type": "code",
      "metadata": {
        "id": "AWrPqRm9J1rK",
        "colab_type": "code",
        "colab": {
          "base_uri": "https://localhost:8080/",
          "height": 121
        },
        "outputId": "d5b7c7f5-d31c-49fc-d37d-f76589688b2d"
      },
      "source": [
        "for i in my_array1:\n",
        "  print(i)"
      ],
      "execution_count": 38,
      "outputs": [
        {
          "output_type": "stream",
          "text": [
            "1\n",
            "2\n",
            "3\n",
            "4\n",
            "5\n",
            "6\n"
          ],
          "name": "stdout"
        }
      ]
    },
    {
      "cell_type": "code",
      "metadata": {
        "id": "a5-BDVgTKAJO",
        "colab_type": "code",
        "colab": {
          "base_uri": "https://localhost:8080/",
          "height": 121
        },
        "outputId": "9a26dbc6-219f-435d-9282-afca4c4c283e"
      },
      "source": [
        "for i in my_array1:\n",
        "  print(f'index of my_array[{i-1}] is {i}')"
      ],
      "execution_count": 40,
      "outputs": [
        {
          "output_type": "stream",
          "text": [
            "index of my_array[0] is 1\n",
            "index of my_array[1] is 2\n",
            "index of my_array[2] is 3\n",
            "index of my_array[3] is 4\n",
            "index of my_array[4] is 5\n",
            "index of my_array[5] is 6\n"
          ],
          "name": "stdout"
        }
      ]
    },
    {
      "cell_type": "code",
      "metadata": {
        "id": "RKwbUnCzKnBr",
        "colab_type": "code",
        "colab": {}
      },
      "source": [
        "\n",
        "#Indexes and values (1)\n",
        "# areas list\n",
        "areas = [11.25, 18.0, 20.0, 10.75, 9.50]"
      ],
      "execution_count": 0,
      "outputs": []
    },
    {
      "cell_type": "markdown",
      "metadata": {
        "id": "lbmpbDf4LDAJ",
        "colab_type": "text"
      },
      "source": [
        "**Enumerate**"
      ]
    },
    {
      "cell_type": "code",
      "metadata": {
        "id": "T6SdHcCVLA93",
        "colab_type": "code",
        "colab": {
          "base_uri": "https://localhost:8080/",
          "height": 104
        },
        "outputId": "2e58e126-82f6-4623-dec4-f1839e3d4000"
      },
      "source": [
        "# Code the for loop\n",
        "for index, area in enumerate(areas) :\n",
        "    print(\"room \" + str(index) + \": \" + str(area))\n"
      ],
      "execution_count": 42,
      "outputs": [
        {
          "output_type": "stream",
          "text": [
            "room 0: 11.25\n",
            "room 1: 18.0\n",
            "room 2: 20.0\n",
            "room 3: 10.75\n",
            "room 4: 9.5\n"
          ],
          "name": "stdout"
        }
      ]
    },
    {
      "cell_type": "code",
      "metadata": {
        "id": "ugL9AJHjLJZ2",
        "colab_type": "code",
        "colab": {
          "base_uri": "https://localhost:8080/",
          "height": 121
        },
        "outputId": "5429c010-a3c5-4ae4-f295-27e280124446"
      },
      "source": [
        "for index, i in enumerate(my_array1):\n",
        "  print(f'{str(index)} is the index of my_array where it\\'s value is {i}')"
      ],
      "execution_count": 44,
      "outputs": [
        {
          "output_type": "stream",
          "text": [
            "0 is the index of my_array where it's value is 1\n",
            "1 is the index of my_array where it's value is 2\n",
            "2 is the index of my_array where it's value is 3\n",
            "3 is the index of my_array where it's value is 4\n",
            "4 is the index of my_array where it's value is 5\n",
            "5 is the index of my_array where it's value is 6\n"
          ],
          "name": "stdout"
        }
      ]
    },
    {
      "cell_type": "code",
      "metadata": {
        "id": "Kkadw_DELiOa",
        "colab_type": "code",
        "colab": {
          "base_uri": "https://localhost:8080/",
          "height": 121
        },
        "outputId": "54f474e1-7f73-418a-8453-e0ccd1938221"
      },
      "source": [
        "for i in \"family\":\n",
        "  print(f'{i.capitalize()}')"
      ],
      "execution_count": 49,
      "outputs": [
        {
          "output_type": "stream",
          "text": [
            "F\n",
            "A\n",
            "M\n",
            "I\n",
            "L\n",
            "Y\n"
          ],
          "name": "stdout"
        }
      ]
    },
    {
      "cell_type": "code",
      "metadata": {
        "id": "OWYngTK7Mkw6",
        "colab_type": "code",
        "colab": {}
      },
      "source": [
        "#Loop over list of lists\n",
        "# house list of lists\n",
        "house = [[\"hallway\", 11.25], \n",
        "         [\"kitchen\", 18.0], \n",
        "         [\"living room\", 20.0], \n",
        "         [\"bedroom\", 10.75], \n",
        "         [\"bathroom\", 9.50]]"
      ],
      "execution_count": 0,
      "outputs": []
    },
    {
      "cell_type": "code",
      "metadata": {
        "id": "FdyZyAJJPerF",
        "colab_type": "code",
        "colab": {
          "base_uri": "https://localhost:8080/",
          "height": 104
        },
        "outputId": "7f8e066a-671c-485f-ff9f-78c90ec9cc4b"
      },
      "source": [
        "for i in house:\n",
        "  print(f'the {i[0]} is {i[1]} sq.meters')"
      ],
      "execution_count": 53,
      "outputs": [
        {
          "output_type": "stream",
          "text": [
            "the hallway is 11.25 sq.meters\n",
            "the kitchen is 18.0 sq.meters\n",
            "the living room is 20.0 sq.meters\n",
            "the bedroom is 10.75 sq.meters\n",
            "the bathroom is 9.5 sq.meters\n"
          ],
          "name": "stdout"
        }
      ]
    },
    {
      "cell_type": "code",
      "metadata": {
        "id": "Bkg6d3E5P99a",
        "colab_type": "code",
        "colab": {}
      },
      "source": [
        "#Loop over dictionary\n",
        "# Definition of dictionary\n",
        "europe = {'spain':'madrid', 'france':'paris', 'germany':'bonn', \n",
        "          'norway':'oslo', 'italy':'rome', 'poland':'warsaw', 'australia':'vienna' }"
      ],
      "execution_count": 0,
      "outputs": []
    },
    {
      "cell_type": "code",
      "metadata": {
        "id": "IgC1V0oBQkbr",
        "colab_type": "code",
        "colab": {
          "base_uri": "https://localhost:8080/",
          "height": 139
        },
        "outputId": "7fef1eeb-73c0-4e85-9302-6a7512bc39c1"
      },
      "source": [
        "for key, value in europe.items():\n",
        "  print(f'the capital of {key} is {value}')"
      ],
      "execution_count": 57,
      "outputs": [
        {
          "output_type": "stream",
          "text": [
            "the capital of spain is madrid\n",
            "the capital of france is paris\n",
            "the capital of germany is bonn\n",
            "the capital of norway is oslo\n",
            "the capital of italy is rome\n",
            "the capital of poland is warsaw\n",
            "the capital of australia is vienna\n"
          ],
          "name": "stdout"
        }
      ]
    },
    {
      "cell_type": "markdown",
      "metadata": {
        "id": "iRlqf9xJVfNg",
        "colab_type": "text"
      },
      "source": [
        "**Array**"
      ]
    },
    {
      "cell_type": "code",
      "metadata": {
        "id": "0kxk3VoSQyrP",
        "colab_type": "code",
        "colab": {}
      },
      "source": [
        "val = my_array1 / my_array2"
      ],
      "execution_count": 0,
      "outputs": []
    },
    {
      "cell_type": "code",
      "metadata": {
        "id": "AI1dJxL_Vnak",
        "colab_type": "code",
        "colab": {
          "base_uri": "https://localhost:8080/",
          "height": 52
        },
        "outputId": "e344349b-5d9f-4e40-da3f-3aee25f42cb5"
      },
      "source": [
        "val"
      ],
      "execution_count": 59,
      "outputs": [
        {
          "output_type": "execute_result",
          "data": {
            "text/plain": [
              "array([0.2       , 0.28571429, 0.375     , 1.33333333, 0.83333333,\n",
              "       0.66666667])"
            ]
          },
          "metadata": {
            "tags": []
          },
          "execution_count": 59
        }
      ]
    },
    {
      "cell_type": "code",
      "metadata": {
        "id": "VB-pMWRTVouX",
        "colab_type": "code",
        "colab": {
          "base_uri": "https://localhost:8080/",
          "height": 121
        },
        "outputId": "9656d22c-60b1-46d8-989a-f281de235e9b"
      },
      "source": [
        "for i in val:\n",
        "  print(i)"
      ],
      "execution_count": 60,
      "outputs": [
        {
          "output_type": "stream",
          "text": [
            "0.2\n",
            "0.2857142857142857\n",
            "0.375\n",
            "1.3333333333333333\n",
            "0.8333333333333334\n",
            "0.6666666666666666\n"
          ],
          "name": "stdout"
        }
      ]
    },
    {
      "cell_type": "code",
      "metadata": {
        "id": "UonLnXLjVt8r",
        "colab_type": "code",
        "colab": {}
      },
      "source": [
        "measure = np.array([my_array1, my_array2])"
      ],
      "execution_count": 0,
      "outputs": []
    },
    {
      "cell_type": "code",
      "metadata": {
        "id": "Pf_jEpFiV7FB",
        "colab_type": "code",
        "colab": {
          "base_uri": "https://localhost:8080/",
          "height": 52
        },
        "outputId": "2320a217-1176-401c-dd8c-fcf4944f24b2"
      },
      "source": [
        "measure"
      ],
      "execution_count": 63,
      "outputs": [
        {
          "output_type": "execute_result",
          "data": {
            "text/plain": [
              "array([[1, 2, 3, 4, 5, 6],\n",
              "       [5, 7, 8, 3, 6, 9]])"
            ]
          },
          "metadata": {
            "tags": []
          },
          "execution_count": 63
        }
      ]
    },
    {
      "cell_type": "code",
      "metadata": {
        "id": "HFSSRTijWBkT",
        "colab_type": "code",
        "colab": {
          "base_uri": "https://localhost:8080/",
          "height": 52
        },
        "outputId": "760e4e1a-b756-4cbe-93ca-1472020928fb"
      },
      "source": [
        "for i in measure:\n",
        "  print(i)"
      ],
      "execution_count": 64,
      "outputs": [
        {
          "output_type": "stream",
          "text": [
            "[1 2 3 4 5 6]\n",
            "[5 7 8 3 6 9]\n"
          ],
          "name": "stdout"
        }
      ]
    },
    {
      "cell_type": "code",
      "metadata": {
        "id": "dpnlz1Q2WJuB",
        "colab_type": "code",
        "colab": {
          "base_uri": "https://localhost:8080/",
          "height": 225
        },
        "outputId": "c816669b-c4a2-414b-d3c7-20bfcb4fc52a"
      },
      "source": [
        "for i in np.nditer(measure):\n",
        "  print(i)"
      ],
      "execution_count": 65,
      "outputs": [
        {
          "output_type": "stream",
          "text": [
            "1\n",
            "2\n",
            "3\n",
            "4\n",
            "5\n",
            "6\n",
            "5\n",
            "7\n",
            "8\n",
            "3\n",
            "6\n",
            "9\n"
          ],
          "name": "stdout"
        }
      ]
    },
    {
      "cell_type": "markdown",
      "metadata": {
        "id": "84fXHmMRYXmu",
        "colab_type": "text"
      },
      "source": [
        "![alt text](https://i.ibb.co/MpBSqh0/Firefox-Screenshot-2020-01-23-T12-28-51-932-Z.png)"
      ]
    },
    {
      "cell_type": "code",
      "metadata": {
        "id": "KyZStxIPWZ-Y",
        "colab_type": "code",
        "colab": {}
      },
      "source": [
        "import pandas as pd\n",
        "\n",
        "df = pd.DataFrame(house)"
      ],
      "execution_count": 0,
      "outputs": []
    },
    {
      "cell_type": "code",
      "metadata": {
        "id": "R3d8BzFxZfpz",
        "colab_type": "code",
        "colab": {
          "base_uri": "https://localhost:8080/",
          "height": 206
        },
        "outputId": "22f10ac8-e3c8-4ba8-9b3c-c282e6059640"
      },
      "source": [
        "df"
      ],
      "execution_count": 76,
      "outputs": [
        {
          "output_type": "execute_result",
          "data": {
            "text/html": [
              "<div>\n",
              "<style scoped>\n",
              "    .dataframe tbody tr th:only-of-type {\n",
              "        vertical-align: middle;\n",
              "    }\n",
              "\n",
              "    .dataframe tbody tr th {\n",
              "        vertical-align: top;\n",
              "    }\n",
              "\n",
              "    .dataframe thead th {\n",
              "        text-align: right;\n",
              "    }\n",
              "</style>\n",
              "<table border=\"1\" class=\"dataframe\">\n",
              "  <thead>\n",
              "    <tr style=\"text-align: right;\">\n",
              "      <th></th>\n",
              "      <th>0</th>\n",
              "      <th>1</th>\n",
              "    </tr>\n",
              "  </thead>\n",
              "  <tbody>\n",
              "    <tr>\n",
              "      <th>0</th>\n",
              "      <td>hallway</td>\n",
              "      <td>11.25</td>\n",
              "    </tr>\n",
              "    <tr>\n",
              "      <th>1</th>\n",
              "      <td>kitchen</td>\n",
              "      <td>18.00</td>\n",
              "    </tr>\n",
              "    <tr>\n",
              "      <th>2</th>\n",
              "      <td>living room</td>\n",
              "      <td>20.00</td>\n",
              "    </tr>\n",
              "    <tr>\n",
              "      <th>3</th>\n",
              "      <td>bedroom</td>\n",
              "      <td>10.75</td>\n",
              "    </tr>\n",
              "    <tr>\n",
              "      <th>4</th>\n",
              "      <td>bathroom</td>\n",
              "      <td>9.50</td>\n",
              "    </tr>\n",
              "  </tbody>\n",
              "</table>\n",
              "</div>"
            ],
            "text/plain": [
              "             0      1\n",
              "0      hallway  11.25\n",
              "1      kitchen  18.00\n",
              "2  living room  20.00\n",
              "3      bedroom  10.75\n",
              "4     bathroom   9.50"
            ]
          },
          "metadata": {
            "tags": []
          },
          "execution_count": 76
        }
      ]
    },
    {
      "cell_type": "code",
      "metadata": {
        "id": "o3owQvjlZlkg",
        "colab_type": "code",
        "colab": {
          "base_uri": "https://localhost:8080/",
          "height": 104
        },
        "outputId": "853be20a-39ca-4be1-cb72-3e237ba7c5ba"
      },
      "source": [
        "for lab, row in df.iterrows():\n",
        "  print(row[int(0)])"
      ],
      "execution_count": 83,
      "outputs": [
        {
          "output_type": "stream",
          "text": [
            "hallway\n",
            "kitchen\n",
            "living room\n",
            "bedroom\n",
            "bathroom\n"
          ],
          "name": "stdout"
        }
      ]
    },
    {
      "cell_type": "code",
      "metadata": {
        "id": "dXBq4cE4Z1gn",
        "colab_type": "code",
        "colab": {
          "base_uri": "https://localhost:8080/",
          "height": 104
        },
        "outputId": "4e577931-0aeb-494f-9b58-ec1c6f3105cc"
      },
      "source": [
        "for lab, row in df.iterrows():\n",
        "  print(row[int(0)])\n",
        "  df.loc[lab,'new'] = len(row[int(0)])"
      ],
      "execution_count": 102,
      "outputs": [
        {
          "output_type": "stream",
          "text": [
            "hallway\n",
            "kitchen\n",
            "living room\n",
            "bedroom\n",
            "bathroom\n"
          ],
          "name": "stdout"
        }
      ]
    },
    {
      "cell_type": "code",
      "metadata": {
        "id": "MK3RHvEMbZ7b",
        "colab_type": "code",
        "colab": {
          "base_uri": "https://localhost:8080/",
          "height": 206
        },
        "outputId": "9d53a802-1d19-4bda-d664-6b1ad842d5cb"
      },
      "source": [
        "df"
      ],
      "execution_count": 103,
      "outputs": [
        {
          "output_type": "execute_result",
          "data": {
            "text/html": [
              "<div>\n",
              "<style scoped>\n",
              "    .dataframe tbody tr th:only-of-type {\n",
              "        vertical-align: middle;\n",
              "    }\n",
              "\n",
              "    .dataframe tbody tr th {\n",
              "        vertical-align: top;\n",
              "    }\n",
              "\n",
              "    .dataframe thead th {\n",
              "        text-align: right;\n",
              "    }\n",
              "</style>\n",
              "<table border=\"1\" class=\"dataframe\">\n",
              "  <thead>\n",
              "    <tr style=\"text-align: right;\">\n",
              "      <th></th>\n",
              "      <th>0</th>\n",
              "      <th>1</th>\n",
              "      <th>new</th>\n",
              "    </tr>\n",
              "  </thead>\n",
              "  <tbody>\n",
              "    <tr>\n",
              "      <th>0</th>\n",
              "      <td>hallway</td>\n",
              "      <td>11.25</td>\n",
              "      <td>7.0</td>\n",
              "    </tr>\n",
              "    <tr>\n",
              "      <th>1</th>\n",
              "      <td>kitchen</td>\n",
              "      <td>18.00</td>\n",
              "      <td>7.0</td>\n",
              "    </tr>\n",
              "    <tr>\n",
              "      <th>2</th>\n",
              "      <td>living room</td>\n",
              "      <td>20.00</td>\n",
              "      <td>11.0</td>\n",
              "    </tr>\n",
              "    <tr>\n",
              "      <th>3</th>\n",
              "      <td>bedroom</td>\n",
              "      <td>10.75</td>\n",
              "      <td>7.0</td>\n",
              "    </tr>\n",
              "    <tr>\n",
              "      <th>4</th>\n",
              "      <td>bathroom</td>\n",
              "      <td>9.50</td>\n",
              "      <td>8.0</td>\n",
              "    </tr>\n",
              "  </tbody>\n",
              "</table>\n",
              "</div>"
            ],
            "text/plain": [
              "             0      1   new\n",
              "0      hallway  11.25   7.0\n",
              "1      kitchen  18.00   7.0\n",
              "2  living room  20.00  11.0\n",
              "3      bedroom  10.75   7.0\n",
              "4     bathroom   9.50   8.0"
            ]
          },
          "metadata": {
            "tags": []
          },
          "execution_count": 103
        }
      ]
    },
    {
      "cell_type": "code",
      "metadata": {
        "id": "Mkn4MyVEbbbr",
        "colab_type": "code",
        "colab": {}
      },
      "source": [
        "for lab, row in df.iterrows():\n",
        "  df[\"upper_name\"] = df[int(0)].apply(str.upper)"
      ],
      "execution_count": 0,
      "outputs": []
    },
    {
      "cell_type": "code",
      "metadata": {
        "id": "8IKqDtehdB1p",
        "colab_type": "code",
        "colab": {
          "base_uri": "https://localhost:8080/",
          "height": 206
        },
        "outputId": "11e8b5bd-d1fe-4824-d4ca-d955c917b04c"
      },
      "source": [
        "df"
      ],
      "execution_count": 109,
      "outputs": [
        {
          "output_type": "execute_result",
          "data": {
            "text/html": [
              "<div>\n",
              "<style scoped>\n",
              "    .dataframe tbody tr th:only-of-type {\n",
              "        vertical-align: middle;\n",
              "    }\n",
              "\n",
              "    .dataframe tbody tr th {\n",
              "        vertical-align: top;\n",
              "    }\n",
              "\n",
              "    .dataframe thead th {\n",
              "        text-align: right;\n",
              "    }\n",
              "</style>\n",
              "<table border=\"1\" class=\"dataframe\">\n",
              "  <thead>\n",
              "    <tr style=\"text-align: right;\">\n",
              "      <th></th>\n",
              "      <th>0</th>\n",
              "      <th>1</th>\n",
              "      <th>new</th>\n",
              "      <th>upper_name</th>\n",
              "    </tr>\n",
              "  </thead>\n",
              "  <tbody>\n",
              "    <tr>\n",
              "      <th>0</th>\n",
              "      <td>hallway</td>\n",
              "      <td>11.25</td>\n",
              "      <td>7.0</td>\n",
              "      <td>HALLWAY</td>\n",
              "    </tr>\n",
              "    <tr>\n",
              "      <th>1</th>\n",
              "      <td>kitchen</td>\n",
              "      <td>18.00</td>\n",
              "      <td>7.0</td>\n",
              "      <td>KITCHEN</td>\n",
              "    </tr>\n",
              "    <tr>\n",
              "      <th>2</th>\n",
              "      <td>living room</td>\n",
              "      <td>20.00</td>\n",
              "      <td>11.0</td>\n",
              "      <td>LIVING ROOM</td>\n",
              "    </tr>\n",
              "    <tr>\n",
              "      <th>3</th>\n",
              "      <td>bedroom</td>\n",
              "      <td>10.75</td>\n",
              "      <td>7.0</td>\n",
              "      <td>BEDROOM</td>\n",
              "    </tr>\n",
              "    <tr>\n",
              "      <th>4</th>\n",
              "      <td>bathroom</td>\n",
              "      <td>9.50</td>\n",
              "      <td>8.0</td>\n",
              "      <td>BATHROOM</td>\n",
              "    </tr>\n",
              "  </tbody>\n",
              "</table>\n",
              "</div>"
            ],
            "text/plain": [
              "             0      1   new   upper_name\n",
              "0      hallway  11.25   7.0      HALLWAY\n",
              "1      kitchen  18.00   7.0      KITCHEN\n",
              "2  living room  20.00  11.0  LIVING ROOM\n",
              "3      bedroom  10.75   7.0      BEDROOM\n",
              "4     bathroom   9.50   8.0     BATHROOM"
            ]
          },
          "metadata": {
            "tags": []
          },
          "execution_count": 109
        }
      ]
    },
    {
      "cell_type": "code",
      "metadata": {
        "id": "nB1h12Q7dFRS",
        "colab_type": "code",
        "colab": {}
      },
      "source": [
        ""
      ],
      "execution_count": 0,
      "outputs": []
    }
  ]
}