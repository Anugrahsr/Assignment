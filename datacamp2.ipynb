{
  "nbformat": 4,
  "nbformat_minor": 0,
  "metadata": {
    "colab": {
      "name": "datacamp2.ipynb",
      "provenance": [],
      "authorship_tag": "ABX9TyOyj4VusJQOQzugOd+szwbe",
      "include_colab_link": true
    },
    "kernelspec": {
      "name": "python3",
      "display_name": "Python 3"
    }
  },
  "cells": [
    {
      "cell_type": "markdown",
      "metadata": {
        "id": "view-in-github",
        "colab_type": "text"
      },
      "source": [
        "<a href=\"https://colab.research.google.com/github/Anugrahsr/Assignment/blob/master/datacamp2.ipynb\" target=\"_parent\"><img src=\"https://colab.research.google.com/assets/colab-badge.svg\" alt=\"Open In Colab\"/></a>"
      ]
    },
    {
      "cell_type": "markdown",
      "metadata": {
        "id": "4o69fjRmF4r0",
        "colab_type": "text"
      },
      "source": [
        "# Python Intermediate\n",
        "[Datacamp course 2](https://campus.datacamp.com/courses/intermediate-python-for-data-science/)\n",
        "\n",
        "Plot making, case study\n",
        "\n",
        "---"
      ]
    },
    {
      "cell_type": "code",
      "metadata": {
        "id": "NMww1rumFzvV",
        "colab_type": "code",
        "colab": {}
      },
      "source": [
        "#importing matplotlib\n",
        "import matplotlib.pyplot as plt\n"
      ],
      "execution_count": 0,
      "outputs": []
    },
    {
      "cell_type": "markdown",
      "metadata": {
        "id": "HAQXvsmOGtXX",
        "colab_type": "text"
      },
      "source": [
        "Example"
      ]
    },
    {
      "cell_type": "code",
      "metadata": {
        "id": "fllQQaJVGsAA",
        "colab_type": "code",
        "colab": {}
      },
      "source": [
        "year = [2000, 1998, 1997, 1995]\n",
        "popu = [2000, 1800, 1700, 1500]\n",
        "\n"
      ],
      "execution_count": 0,
      "outputs": []
    },
    {
      "cell_type": "markdown",
      "metadata": {
        "id": "nbgAJqXRHgL2",
        "colab_type": "text"
      },
      "source": [
        "**plot function**"
      ]
    },
    {
      "cell_type": "code",
      "metadata": {
        "id": "b4w91KQVHF54",
        "colab_type": "code",
        "outputId": "db693033-6c26-466b-8420-4e87871c76ac",
        "colab": {
          "base_uri": "https://localhost:8080/",
          "height": 282
        }
      },
      "source": [
        "plt.plot(year, popu)"
      ],
      "execution_count": 0,
      "outputs": [
        {
          "output_type": "execute_result",
          "data": {
            "text/plain": [
              "[<matplotlib.lines.Line2D at 0x7f1166881f28>]"
            ]
          },
          "metadata": {
            "tags": []
          },
          "execution_count": 4
        },
        {
          "output_type": "display_data",
          "data": {
            "image/png": "[encoded data removed]",
            "text/plain": [
              "<Figure size 432x288 with 1 Axes>"
            ]
          },
          "metadata": {
            "tags": []
          }
        }
      ]
    },
    {
      "cell_type": "code",
      "metadata": {
        "id": "a-SNKeo1HJ6K",
        "colab_type": "code",
        "colab": {}
      },
      "source": [
        "plt.show()"
      ],
      "execution_count": 0,
      "outputs": []
    },
    {
      "cell_type": "markdown",
      "metadata": {
        "id": "cTMX6iVwHliJ",
        "colab_type": "text"
      },
      "source": [
        "**scatter plot**"
      ]
    },
    {
      "cell_type": "code",
      "metadata": {
        "id": "UIDvonwxHSDy",
        "colab_type": "code",
        "outputId": "a25e21be-0508-4655-b44c-16868947f2e9",
        "colab": {
          "base_uri": "https://localhost:8080/",
          "height": 282
        }
      },
      "source": [
        "plt.scatter(year, popu)"
      ],
      "execution_count": 0,
      "outputs": [
        {
          "output_type": "execute_result",
          "data": {
            "text/plain": [
              "<matplotlib.collections.PathCollection at 0x7f116607e080>"
            ]
          },
          "metadata": {
            "tags": []
          },
          "execution_count": 7
        },
        {
          "output_type": "display_data",
          "data": {
            "image/png": "[encoded data removed]",
            "text/plain": [
              "<Figure size 432x288 with 1 Axes>"
            ]
          },
          "metadata": {
            "tags": []
          }
        }
      ]
    },
    {
      "cell_type": "markdown",
      "metadata": {
        "id": "O-_uLnasL74r",
        "colab_type": "text"
      },
      "source": [
        "**changing to log scale on X axis**"
      ]
    },
    {
      "cell_type": "code",
      "metadata": {
        "id": "gUv4HBeUL2z2",
        "colab_type": "code",
        "outputId": "b0886b00-32d7-484e-d549-d23e9dd5b4ac",
        "colab": {
          "base_uri": "https://localhost:8080/",
          "height": 273
        }
      },
      "source": [
        "plt.xscale('log')\n",
        "\n",
        "# Show plot\n",
        "plt.show()"
      ],
      "execution_count": 0,
      "outputs": [
        {
          "output_type": "display_data",
          "data": {
            "image/png": "[encoded data removed]",
            "text/plain": [
              "<Figure size 432x288 with 1 Axes>"
            ]
          },
          "metadata": {
            "tags": []
          }
        }
      ]
    },
    {
      "cell_type": "markdown",
      "metadata": {
        "id": "aUCQSfqgMRaA",
        "colab_type": "text"
      },
      "source": [
        "**Histogram plot**"
      ]
    },
    {
      "cell_type": "code",
      "metadata": {
        "id": "Xm-flnn9OsYT",
        "colab_type": "code",
        "outputId": "c8436435-0c0d-4b92-fb33-3b89894ac415",
        "colab": {
          "base_uri": "https://localhost:8080/",
          "height": 317
        }
      },
      "source": [
        "plt.hist(year,bins=3)\n",
        "#bins is defult to 10"
      ],
      "execution_count": 0,
      "outputs": [
        {
          "output_type": "execute_result",
          "data": {
            "text/plain": [
              "(array([1., 2., 1.]),\n",
              " array([1995.        , 1996.66666667, 1998.33333333, 2000.        ]),\n",
              " <a list of 3 Patch objects>)"
            ]
          },
          "metadata": {
            "tags": []
          },
          "execution_count": 12
        },
        {
          "output_type": "display_data",
          "data": {
            "image/png": "[encoded data removed]",
            "text/plain": [
              "<Figure size 432x288 with 1 Axes>"
            ]
          },
          "metadata": {
            "tags": []
          }
        }
      ]
    },
    {
      "cell_type": "markdown",
      "metadata": {
        "id": "Hp38ng1NPyAj",
        "colab_type": "text"
      },
      "source": [
        "`plt.clf() calls; plt.show() displays a plot`"
      ]
    },
    {
      "cell_type": "markdown",
      "metadata": {
        "id": "6fox5lPEk0Il",
        "colab_type": "text"
      },
      "source": [
        "**Axis labeling and Title**"
      ]
    },
    {
      "cell_type": "code",
      "metadata": {
        "id": "tXH7rGv1P0yS",
        "colab_type": "code",
        "colab": {}
      },
      "source": [
        "plt.xscale('log')\n",
        "#scale change \n",
        "plt.xlabel('GDP per Capita [in USD]')\n",
        "#xlab\n",
        "plt.ylabel('Life Expectancy [in years]')\n",
        "#ylab\n",
        "plt.title('World Development in 2007')\n",
        "#title\n",
        "plt.yticks([0,1,2], [\"one\",\"two\",\"three\"])\n",
        "#replace 0,1,2 with one two three\n"
      ],
      "execution_count": 0,
      "outputs": []
    },
    {
      "cell_type": "markdown",
      "metadata": {
        "id": "Kj8v60pRyoK1",
        "colab_type": "text"
      },
      "source": [
        "Size of dots corresponding population size in scatter plot\n",
        "\n",
        "![plot](https://i.ibb.co/3Tx6nx6/Screenshot-from-2020-01-22-11-19-27.png)"
      ]
    },
    {
      "cell_type": "code",
      "metadata": {
        "id": "1Cq7vcypzc62",
        "colab_type": "code",
        "colab": {}
      },
      "source": [
        "# Store pop as a numpy array: np_pop\n",
        "np_pop = np.array(pop)\n",
        "\n",
        "# Double np_pop\n",
        "np_pop = np_pop * 2\n",
        "\n",
        "# Update: set s argument to np_pop\n",
        "plt.scatter(gdp_cap, life_exp, s = np_pop)\n",
        "\n",
        "# Previous customizations\n",
        "plt.xscale('log') \n",
        "plt.xlabel('GDP per Capita [in USD]')\n",
        "plt.ylabel('Life Expectancy [in years]')\n",
        "plt.title('World Development in 2007')\n",
        "plt.xticks([1000, 10000, 100000],['1k', '10k', '100k'])\n",
        "\n",
        "# Display the plot\n",
        "plt.show()"
      ],
      "execution_count": 0,
      "outputs": []
    },
    {
      "cell_type": "code",
      "metadata": {
        "id": "xqMJo5k3zh7f",
        "colab_type": "code",
        "colab": {}
      },
      "source": [
        "dict = {\n",
        "    'Asia':'red',\n",
        "    'Europe':'green',\n",
        "    'Africa':'blue',\n",
        "    'Americas':'yellow',\n",
        "    'Oceania':'black'\n",
        "}\n",
        "\n",
        "#    Add c = col to the arguments of the plt.scatter() function.\n",
        "#    Change the opacity of the bubbles by setting the alpha argument to 0.8 inside plt.scatter(). Alpha can be set from zero to one, where zero is totally transparent, and one is not at all transparent.\n"
      ],
      "execution_count": 0,
      "outputs": []
    },
    {
      "cell_type": "markdown",
      "metadata": {
        "id": "ZsXPZGu-2yVH",
        "colab_type": "text"
      },
      "source": [
        "**Add text in plot**\n",
        "\n",
        "`plt.text(x,y,'Text')`\n",
        "\n",
        "**Add grid in plot**\n",
        "\n",
        "`plt.grid(True)`"
      ]
    },
    {
      "cell_type": "code",
      "metadata": {
        "id": "SGJ5htTJ3FxS",
        "colab_type": "code",
        "colab": {}
      },
      "source": [
        ""
      ],
      "execution_count": 0,
      "outputs": []
    },
    {
      "cell_type": "markdown",
      "metadata": {
        "id": "EvJmOZQl7VhC",
        "colab_type": "text"
      },
      "source": [
        "----"
      ]
    },
    {
      "cell_type": "code",
      "metadata": {
        "id": "Zxw9FdDi7XIj",
        "colab_type": "code",
        "colab": {}
      },
      "source": [
        ""
      ],
      "execution_count": 0,
      "outputs": []
    }
  ]
}