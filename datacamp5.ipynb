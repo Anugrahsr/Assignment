{
  "nbformat": 4,
  "nbformat_minor": 0,
  "metadata": {
    "colab": {
      "name": "datacamp5.ipynb",
      "provenance": [],
      "authorship_tag": "ABX9TyPwNtwuwS4mI0gcRPDR2Hf0",
      "include_colab_link": true
    },
    "kernelspec": {
      "name": "python3",
      "display_name": "Python 3"
    }
  },
  "cells": [
    {
      "cell_type": "markdown",
      "metadata": {
        "id": "view-in-github",
        "colab_type": "text"
      },
      "source": [
        "<a href=\"https://colab.research.google.com/github/Anugrahsr/Assignment/blob/master/datacamp5.ipynb\" target=\"_parent\"><img src=\"https://colab.research.google.com/assets/colab-badge.svg\" alt=\"Open In Colab\"/></a>"
      ]
    },
    {
      "cell_type": "markdown",
      "metadata": {
        "id": "n7sv-eAngizo",
        "colab_type": "text"
      },
      "source": [
        "# Random\n",
        "[pdf](https://github.com/AmoDinho/datacamp-python-data-science-track/blob/master/Intermediate%20Python%20for%20Data%20Science/Slides/intermediate_python_ch5_slides.pdf)"
      ]
    },
    {
      "cell_type": "code",
      "metadata": {
        "id": "_tpzKMvhf7Ki",
        "colab_type": "code",
        "colab": {}
      },
      "source": [
        "import numpy as np"
      ],
      "execution_count": 0,
      "outputs": []
    },
    {
      "cell_type": "code",
      "metadata": {
        "id": "EBegeZVagwAL",
        "colab_type": "code",
        "outputId": "c2bcd3db-5b5f-414d-8197-712403161d8d",
        "colab": {
          "base_uri": "https://localhost:8080/",
          "height": 34
        }
      },
      "source": [
        "np.random.rand()"
      ],
      "execution_count": 0,
      "outputs": [
        {
          "output_type": "execute_result",
          "data": {
            "text/plain": [
              "0.4245175907491331"
            ]
          },
          "metadata": {
            "tags": []
          },
          "execution_count": 48
        }
      ]
    },
    {
      "cell_type": "code",
      "metadata": {
        "colab_type": "code",
        "outputId": "3e8b9e85-4b6e-4154-fac4-57a4fd464651",
        "id": "Aw-p8oaPhTvb",
        "colab": {
          "base_uri": "https://localhost:8080/",
          "height": 34
        }
      },
      "source": [
        "np.random.rand()"
      ],
      "execution_count": 0,
      "outputs": [
        {
          "output_type": "execute_result",
          "data": {
            "text/plain": [
              "0.8447761323199037"
            ]
          },
          "metadata": {
            "tags": []
          },
          "execution_count": 49
        }
      ]
    },
    {
      "cell_type": "code",
      "metadata": {
        "colab_type": "code",
        "outputId": "c54f212d-2baa-4af7-e80d-38364789e4fd",
        "id": "mcZRE_qVhQ9_",
        "colab": {
          "base_uri": "https://localhost:8080/",
          "height": 34
        }
      },
      "source": [
        "np.random.rand()"
      ],
      "execution_count": 0,
      "outputs": [
        {
          "output_type": "execute_result",
          "data": {
            "text/plain": [
              "0.004718856190972565"
            ]
          },
          "metadata": {
            "tags": []
          },
          "execution_count": 50
        }
      ]
    },
    {
      "cell_type": "markdown",
      "metadata": {
        "id": "FR8GA6xghYSy",
        "colab_type": "text"
      },
      "source": [
        "**Reproducibility**"
      ]
    },
    {
      "cell_type": "code",
      "metadata": {
        "id": "UDIr6IBMhgsO",
        "colab_type": "code",
        "colab": {}
      },
      "source": [
        "np.random.seed(100)"
      ],
      "execution_count": 0,
      "outputs": []
    },
    {
      "cell_type": "code",
      "metadata": {
        "id": "BiPWGTIGhlu_",
        "colab_type": "code",
        "outputId": "3d7646e0-c959-417c-e491-e6a58b3259d6",
        "colab": {
          "base_uri": "https://localhost:8080/",
          "height": 34
        }
      },
      "source": [
        "np.random.rand()"
      ],
      "execution_count": 0,
      "outputs": [
        {
          "output_type": "execute_result",
          "data": {
            "text/plain": [
              "0.5434049417909654"
            ]
          },
          "metadata": {
            "tags": []
          },
          "execution_count": 52
        }
      ]
    },
    {
      "cell_type": "code",
      "metadata": {
        "id": "vGrApXz4hog8",
        "colab_type": "code",
        "outputId": "b70374ba-4a1f-41f6-ba50-1494a259c423",
        "colab": {
          "base_uri": "https://localhost:8080/",
          "height": 34
        }
      },
      "source": [
        "np.random.rand()"
      ],
      "execution_count": 0,
      "outputs": [
        {
          "output_type": "execute_result",
          "data": {
            "text/plain": [
              "0.27836938509379616"
            ]
          },
          "metadata": {
            "tags": []
          },
          "execution_count": 53
        }
      ]
    },
    {
      "cell_type": "markdown",
      "metadata": {
        "id": "WAesfynih4IW",
        "colab_type": "text"
      },
      "source": [
        "**Coin Toss**"
      ]
    },
    {
      "cell_type": "code",
      "metadata": {
        "id": "bNse32N2hrE5",
        "colab_type": "code",
        "colab": {}
      },
      "source": [
        "coin = np.random.randint(0,2)"
      ],
      "execution_count": 0,
      "outputs": []
    },
    {
      "cell_type": "code",
      "metadata": {
        "id": "88iGhsqdiFNK",
        "colab_type": "code",
        "outputId": "5d1301df-ee96-4d90-de47-3b1dd62ef867",
        "colab": {
          "base_uri": "https://localhost:8080/",
          "height": 34
        }
      },
      "source": [
        "print(coin)"
      ],
      "execution_count": 0,
      "outputs": [
        {
          "output_type": "stream",
          "text": [
            "1\n"
          ],
          "name": "stdout"
        }
      ]
    },
    {
      "cell_type": "code",
      "metadata": {
        "id": "pGZPatMOiG9q",
        "colab_type": "code",
        "outputId": "06e7603b-7a1f-46f4-b546-af7b2cfc26d2",
        "colab": {
          "base_uri": "https://localhost:8080/",
          "height": 34
        }
      },
      "source": [
        "if coin == 0:\n",
        "  print(\"Heads\")\n",
        "else:\n",
        "  print(\"Tails\")  "
      ],
      "execution_count": 0,
      "outputs": [
        {
          "output_type": "stream",
          "text": [
            "Tails\n"
          ],
          "name": "stdout"
        }
      ]
    },
    {
      "cell_type": "code",
      "metadata": {
        "id": "moHLZE9giXPu",
        "colab_type": "code",
        "outputId": "eefb6661-4a31-4183-8946-062489c5ade4",
        "colab": {
          "base_uri": "https://localhost:8080/",
          "height": 34
        }
      },
      "source": [
        "outcome = []\n",
        "for i in range(10):\n",
        "  coin = np.random.randint(0,2)\n",
        "  if coin == 0:\n",
        "    outcome.append(\"heads\")\n",
        "  else:\n",
        "    outcome.append(\"tails\")\n",
        "print(outcome)      "
      ],
      "execution_count": 0,
      "outputs": [
        {
          "output_type": "stream",
          "text": [
            "['heads', 'tails', 'tails', 'tails', 'tails', 'tails', 'tails', 'tails', 'tails', 'heads']\n"
          ],
          "name": "stdout"
        }
      ]
    },
    {
      "cell_type": "code",
      "metadata": {
        "id": "cprtaoiCkBJ2",
        "colab_type": "code",
        "colab": {}
      },
      "source": [
        ""
      ],
      "execution_count": 0,
      "outputs": []
    }
  ]
}